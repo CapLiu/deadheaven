{
 "cells": [
  {
   "cell_type": "markdown",
   "metadata": {},
   "source": [
    "# Trace模块的使用"
   ]
  },
  {
   "cell_type": "markdown",
   "metadata": {},
   "source": [
    "python提供了原生的logging模块用于记录各种等级的log。为了便于项目使用，在此用其编写了一个自己的Trace类，用于输出各个模块的log。\n",
    "本Trace类支持设置单个log文件大小以及log文件个数，每当log达到设定的文件个数后，log会以循环的形式覆盖掉之前的log。"
   ]
  },
  {
   "cell_type": "code",
   "execution_count": 12,
   "metadata": {},
   "outputs": [],
   "source": [
    "import logging\n",
    "import logging.handlers\n",
    "\n",
    "class Trace:\n",
    "    def __init__(self,modulename='Trace',maxfilecount=5,singlefilesize=2048):\n",
    "        # maxfilecount：log文件数量，singlefilesize：单个文件大小，当达到这一大小后，将会建立新的log文件\n",
    "        self.__modulename = modulename # 分模块名来记录log\n",
    "        self.__logger = logging.getLogger(modulename)\n",
    "        # 给logger对象设立等级，从低到高为DEBUG,INFO,WARNING,ERROR,CRITICAL，对应的整数是10,20,30,40,50\n",
    "        self.__logger.setLevel(logging.DEBUG)\n",
    "        self.__maxfilecount = maxfilecount\n",
    "        self.__singlefilesize = singlefilesize\n",
    "        # 设置streamhandler\n",
    "        self.__streamhandler = logging.StreamHandler()\n",
    "        self.__logfilename = self.__modulename + '.log'\n",
    "        # 以RotatingFileHandler作为fileHandler。\n",
    "        # 对于每个logger对象，可以建立多个handler对象用于处理log内容。\n",
    "        # StreamHandler用于将log内容输出到屏幕（控制台），而FileHandler用于将log内容存储到指定的文件中。\n",
    "        # 这里选用RotatingFileHandler来作为logger的FileHandler，可以自动根据文件大小和数量来生成log文件。\n",
    "        self.__filehandler = logging.handlers.RotatingFileHandler(self.__logfilename,\n",
    "                                                                  maxBytes=singlefilesize,\n",
    "                                                                  backupCount=maxfilecount,\n",
    "                                                                  encoding='utf-8')\n",
    "        # 设立formatter用于格式化输出log。从左到右依次为时间（到毫秒），模块名，等级，线程ID，具体log信息。\n",
    "        # logging库本身是线程安全的，因此这里无需过于注意多线程。\n",
    "        self.__formatter = logging.Formatter('%(asctime)s %(name)s %(levelname)s %(thread)d %(message)s')\n",
    "        # 给StreamHandler和RotatingFileHandler添加格式化\n",
    "        self.__streamhandler.setFormatter(self.__formatter)\n",
    "        # 给logger对象添加上这两个handler\n",
    "        self.__logger.addHandler(self.__streamhandler)\n",
    "        self.__filehandler.setFormatter(self.__formatter)\n",
    "        self.__logger.addHandler(self.__filehandler)\n",
    "\n",
    "    def trace(self,message,streamlevel=logging.WARNING,filelevel=logging.INFO):\n",
    "        # 输出log的函数。这里的参数有两个：streamlevel用于设定输出到屏幕的log等级，而filelevel用于设定输出到文件的log等级。\n",
    "        # 使用handler的目的就在于可以区别输出不同的log。如在这里，屏幕输出的默认只包含WARNING及以上的log，而存入文件的则是包含INFO及以上等级的\n",
    "        # 给两个handler设置等级\n",
    "        self.__streamhandler.setLevel(streamlevel)\n",
    "        self.__filehandler.setLevel(filelevel)\n",
    "        # 根据等级调用不同的函数输出\n",
    "        if streamlevel == logging.DEBUG:\n",
    "            self.__logger.debug(message)\n",
    "        elif streamlevel == logging.INFO:\n",
    "            self.__logger.info(message)\n",
    "        elif streamlevel == logging.WARNING:\n",
    "            self.__logger.warning(message)\n",
    "        elif streamlevel == logging.ERROR:\n",
    "            self.__logger.error(message)\n",
    "        elif streamlevel == logging.CRITICAL:\n",
    "            self.__logger.critical(message)\n",
    "        # 这里用exception来输出各种Exception的信息。\n",
    "        else:\n",
    "            self.__logger.exception(message)\n",
    "        self.__filehandler.close()"
   ]
  },
  {
   "cell_type": "markdown",
   "metadata": {},
   "source": [
    "可以通过以下的交互界面来试试看。"
   ]
  },
  {
   "cell_type": "code",
   "execution_count": 14,
   "metadata": {},
   "outputs": [
    {
     "data": {
      "application/vnd.jupyter.widget-view+json": {
       "model_id": "759bc7d3628f4716a43bb61e9af2294b",
       "version_major": 2,
       "version_minor": 0
      },
      "text/plain": [
       "Text(value='', description='模块名称')"
      ]
     },
     "metadata": {},
     "output_type": "display_data"
    },
    {
     "data": {
      "application/vnd.jupyter.widget-view+json": {
       "model_id": "43dbcb7ba53e48c8b864da571530341a",
       "version_major": 2,
       "version_minor": 0
      },
      "text/plain": [
       "Text(value='', description='log文件数量')"
      ]
     },
     "metadata": {},
     "output_type": "display_data"
    },
    {
     "data": {
      "application/vnd.jupyter.widget-view+json": {
       "model_id": "c092ea7397374c7f9695192a1a630e61",
       "version_major": 2,
       "version_minor": 0
      },
      "text/plain": [
       "Text(value='', description='单个文件大小')"
      ]
     },
     "metadata": {},
     "output_type": "display_data"
    },
    {
     "data": {
      "application/vnd.jupyter.widget-view+json": {
       "model_id": "84aecc24875d47f0bc7813ee1d0d01b7",
       "version_major": 2,
       "version_minor": 0
      },
      "text/plain": [
       "Text(value='', description='屏幕log等级')"
      ]
     },
     "metadata": {},
     "output_type": "display_data"
    },
    {
     "data": {
      "application/vnd.jupyter.widget-view+json": {
       "model_id": "1b4079090b734e9380a2c6438afd1eba",
       "version_major": 2,
       "version_minor": 0
      },
      "text/plain": [
       "Text(value='', description='文件log等级')"
      ]
     },
     "metadata": {},
     "output_type": "display_data"
    },
    {
     "data": {
      "application/vnd.jupyter.widget-view+json": {
       "model_id": "332f24b08f7f4b9bbf21db531e900aa9",
       "version_major": 2,
       "version_minor": 0
      },
      "text/plain": [
       "Text(value='', description='log内容')"
      ]
     },
     "metadata": {},
     "output_type": "display_data"
    },
    {
     "data": {
      "application/vnd.jupyter.widget-view+json": {
       "model_id": "f89d40236de74deca01277f30dca2ac4",
       "version_major": 2,
       "version_minor": 0
      },
      "text/plain": [
       "Button(description='确定', style=ButtonStyle())"
      ]
     },
     "metadata": {},
     "output_type": "display_data"
    }
   ],
   "source": [
    "from ipywidgets import widgets\n",
    "from IPython.display import display\n",
    "\n",
    "modulename = widgets.Text(description='模块名称')\n",
    "maxfilecount = widgets.Text(description='log文件数量')\n",
    "singlefilesize = widgets.Text(description='单个文件大小')\n",
    "message = widgets.Text(description='log内容')\n",
    "streamlevel = widgets.Text(description='屏幕log等级')\n",
    "filelevel = widgets.Text(description='文件log等级')\n",
    "button = widgets.Button(description='确定')\n",
    "display(modulename)\n",
    "display(maxfilecount)\n",
    "display(singlefilesize)\n",
    "display(streamlevel)\n",
    "display(filelevel)\n",
    "display(message)\n",
    "display(button)\n",
    "\n",
    "def on_button_clicked(b):\n",
    "    tracer = Trace(modulename.value,int(maxfilecount.value),int(singlefilesize.value))\n",
    "    tracer.trace(message.value,int(streamlevel.value),int(filelevel.value))\n",
    "button.on_click(on_button_clicked)\n",
    "    "
   ]
  },
  {
   "cell_type": "markdown",
   "metadata": {},
   "source": [
    "在使用Trace时，我们只需引入Trace类，建立一个Trace对象并设定好文件大小和单个文件数量，就可以通过trace方法来输出不同等级的log了。"
   ]
  }
 ],
 "metadata": {
  "kernelspec": {
   "display_name": "Python 3",
   "language": "python",
   "name": "python3"
  },
  "language_info": {
   "codemirror_mode": {
    "name": "ipython",
    "version": 3
   },
   "file_extension": ".py",
   "mimetype": "text/x-python",
   "name": "python",
   "nbconvert_exporter": "python",
   "pygments_lexer": "ipython3",
   "version": "3.6.2"
  },
  "widgets": {
   "application/vnd.jupyter.widget-state+json": {
    "state": {
     "00fe0e8f18d8474381f55064f01ac043": {
      "model_module": "@jupyter-widgets/controls",
      "model_module_version": "1.4.0",
      "model_name": "TextModel",
      "state": {
       "description": "单个文件大小",
       "layout": "IPY_MODEL_04614eb042654a749c742039d3534b71",
       "style": "IPY_MODEL_0cc83e62f4c14354b45af1bcec5170f6"
      }
     },
     "0331e6404b0b48b89f9ede2152c8cb8f": {
      "model_module": "@jupyter-widgets/controls",
      "model_module_version": "1.4.0",
      "model_name": "DescriptionStyleModel",
      "state": {
       "description_width": ""
      }
     },
     "04614eb042654a749c742039d3534b71": {
      "model_module": "@jupyter-widgets/base",
      "model_module_version": "1.1.0",
      "model_name": "LayoutModel",
      "state": {}
     },
     "04df5d62b40e4e3d8d300dd7974d8dcf": {
      "model_module": "@jupyter-widgets/base",
      "model_module_version": "1.1.0",
      "model_name": "LayoutModel",
      "state": {}
     },
     "0506c91de4f54b26a0e309e86de244a6": {
      "model_module": "@jupyter-widgets/controls",
      "model_module_version": "1.4.0",
      "model_name": "TextModel",
      "state": {
       "description": "屏幕log等级",
       "layout": "IPY_MODEL_b22f417e7dd4434591b76d06848d8af9",
       "style": "IPY_MODEL_c9eccfbb6e8e4ec4b04481974dab5465",
       "value": "10"
      }
     },
     "0827c04eb01e4002ac932a61d10eac8a": {
      "model_module": "@jupyter-widgets/base",
      "model_module_version": "1.1.0",
      "model_name": "LayoutModel",
      "state": {}
     },
     "0c1608a7298446dbbd891570abe18b3f": {
      "model_module": "@jupyter-widgets/base",
      "model_module_version": "1.1.0",
      "model_name": "LayoutModel",
      "state": {}
     },
     "0c6606bcdafb4c378c61b5e80f54ae5b": {
      "model_module": "@jupyter-widgets/controls",
      "model_module_version": "1.4.0",
      "model_name": "TextModel",
      "state": {
       "description": "屏幕log等级",
       "layout": "IPY_MODEL_0827c04eb01e4002ac932a61d10eac8a",
       "style": "IPY_MODEL_9fc8964a581b433280d24af19e75bae0",
       "value": "10"
      }
     },
     "0cab39dc48db423d833b80381351f81a": {
      "model_module": "@jupyter-widgets/controls",
      "model_module_version": "1.4.0",
      "model_name": "TextModel",
      "state": {
       "description": "单个文件大小",
       "layout": "IPY_MODEL_16356ddf18664bc4946828f709bac1e0",
       "style": "IPY_MODEL_ac1b9228fb724784be88cdcc0d215d29",
       "value": "32"
      }
     },
     "0cc83e62f4c14354b45af1bcec5170f6": {
      "model_module": "@jupyter-widgets/controls",
      "model_module_version": "1.4.0",
      "model_name": "DescriptionStyleModel",
      "state": {
       "description_width": ""
      }
     },
     "0d21d3ef242940718846b77016ea65f6": {
      "model_module": "@jupyter-widgets/controls",
      "model_module_version": "1.4.0",
      "model_name": "TextModel",
      "state": {
       "description": "单个文件大小",
       "layout": "IPY_MODEL_41b409e0868d4f3aa70d84a92e2d4119",
       "style": "IPY_MODEL_8225176f9b3649aaa94648d3fdf3670e",
       "value": "1024"
      }
     },
     "0f90792564164c04914247bc048bdaaa": {
      "model_module": "@jupyter-widgets/base",
      "model_module_version": "1.1.0",
      "model_name": "LayoutModel",
      "state": {}
     },
     "0fe4be0885614e0998baa9a40cf91b57": {
      "model_module": "@jupyter-widgets/controls",
      "model_module_version": "1.4.0",
      "model_name": "TextModel",
      "state": {
       "description": "log文件数量",
       "layout": "IPY_MODEL_c01a4f43db3341e29986fd44a17df919",
       "style": "IPY_MODEL_5c2aa2dbb20a441e9e68d8f6a163a535",
       "value": "2"
      }
     },
     "0ffefbac86244db7b34770a244ec814a": {
      "model_module": "@jupyter-widgets/controls",
      "model_module_version": "1.4.0",
      "model_name": "TextModel",
      "state": {
       "description": "屏幕log等级",
       "layout": "IPY_MODEL_bb4494beb0834598b0c31c9a61fb33f3",
       "style": "IPY_MODEL_c9b6872411fe4edd9263cf057f79356a",
       "value": "10"
      }
     },
     "11bceb195d6d46678afc444947ef20b1": {
      "model_module": "@jupyter-widgets/base",
      "model_module_version": "1.1.0",
      "model_name": "LayoutModel",
      "state": {}
     },
     "12ce992ef63c4e69b96ec0a4e8936fc1": {
      "model_module": "@jupyter-widgets/controls",
      "model_module_version": "1.4.0",
      "model_name": "TextModel",
      "state": {
       "description": "模块名称",
       "layout": "IPY_MODEL_3006277f09864bdcb58868744855f8c5",
       "style": "IPY_MODEL_eed967f078924ad0bdf82b1218cfa65c",
       "value": "sample1"
      }
     },
     "13cebdb316e7475f98ab909ab9f4f77b": {
      "model_module": "@jupyter-widgets/controls",
      "model_module_version": "1.4.0",
      "model_name": "TextModel",
      "state": {
       "description": "log文件数量",
       "layout": "IPY_MODEL_174c7c1b682e4bdcb0b0e2fd6f65e92f",
       "style": "IPY_MODEL_ede94f67a65d4a3f9b04987a869fa96c",
       "value": "3"
      }
     },
     "13e50398a2f141009932b990ab419b59": {
      "model_module": "@jupyter-widgets/controls",
      "model_module_version": "1.4.0",
      "model_name": "DescriptionStyleModel",
      "state": {
       "description_width": ""
      }
     },
     "16356ddf18664bc4946828f709bac1e0": {
      "model_module": "@jupyter-widgets/base",
      "model_module_version": "1.1.0",
      "model_name": "LayoutModel",
      "state": {}
     },
     "174c7c1b682e4bdcb0b0e2fd6f65e92f": {
      "model_module": "@jupyter-widgets/base",
      "model_module_version": "1.1.0",
      "model_name": "LayoutModel",
      "state": {}
     },
     "19816be30565404fa333345643604ba0": {
      "model_module": "@jupyter-widgets/base",
      "model_module_version": "1.1.0",
      "model_name": "LayoutModel",
      "state": {}
     },
     "19ed984169df41e5a1aa9af85d0447b7": {
      "model_module": "@jupyter-widgets/base",
      "model_module_version": "1.1.0",
      "model_name": "LayoutModel",
      "state": {}
     },
     "1a43eb99c5df4617807d2eaa2d764194": {
      "model_module": "@jupyter-widgets/base",
      "model_module_version": "1.1.0",
      "model_name": "LayoutModel",
      "state": {}
     },
     "1adcdd870b834816ae063380db3ba381": {
      "model_module": "@jupyter-widgets/controls",
      "model_module_version": "1.4.0",
      "model_name": "DescriptionStyleModel",
      "state": {
       "description_width": ""
      }
     },
     "1b4079090b734e9380a2c6438afd1eba": {
      "model_module": "@jupyter-widgets/controls",
      "model_module_version": "1.4.0",
      "model_name": "TextModel",
      "state": {
       "description": "文件log等级",
       "layout": "IPY_MODEL_96b4728c3c9b4a62b3dbc952f75c3e70",
       "style": "IPY_MODEL_a93e65593a2c4a119bf146948dd5602f"
      }
     },
     "1c347994b5d047c085b9b63adcfb2e8f": {
      "model_module": "@jupyter-widgets/base",
      "model_module_version": "1.1.0",
      "model_name": "LayoutModel",
      "state": {}
     },
     "1d99afa0e7eb44aead9ec35dad87a79e": {
      "model_module": "@jupyter-widgets/controls",
      "model_module_version": "1.4.0",
      "model_name": "DescriptionStyleModel",
      "state": {
       "description_width": ""
      }
     },
     "200ea23c325f47d4be3ad45cc9bccb62": {
      "model_module": "@jupyter-widgets/controls",
      "model_module_version": "1.4.0",
      "model_name": "DescriptionStyleModel",
      "state": {
       "description_width": ""
      }
     },
     "210510f0b571407381db64c9de6dad17": {
      "model_module": "@jupyter-widgets/controls",
      "model_module_version": "1.4.0",
      "model_name": "TextModel",
      "state": {
       "description": "模块名称",
       "layout": "IPY_MODEL_ad8836c7e915474baaeff1c8b2ad8600",
       "style": "IPY_MODEL_40178acfe23c4bafbf5e359a4120bbb6",
       "value": "test"
      }
     },
     "216f805bd34a49dda0b5e5ae3293f4b3": {
      "model_module": "@jupyter-widgets/controls",
      "model_module_version": "1.4.0",
      "model_name": "ButtonModel",
      "state": {
       "description": "确定",
       "layout": "IPY_MODEL_5b39196a45f244eca8b457bea4ea3b78",
       "style": "IPY_MODEL_e421ff278e8a480cbd8109aab288a368"
      }
     },
     "229e0036683a48518cb8457032604f0a": {
      "model_module": "@jupyter-widgets/controls",
      "model_module_version": "1.4.0",
      "model_name": "ButtonModel",
      "state": {
       "description": "确定",
       "layout": "IPY_MODEL_2c01ac002b5a4ff2984e1c29a831de7a",
       "style": "IPY_MODEL_97b8a7f7aec04a8bb1966d9dfe2a7b86"
      }
     },
     "23c8850be75e49dc82454e1cf84c1b43": {
      "model_module": "@jupyter-widgets/base",
      "model_module_version": "1.1.0",
      "model_name": "LayoutModel",
      "state": {}
     },
     "24a489055aae44d4968db8694ddaec49": {
      "model_module": "@jupyter-widgets/controls",
      "model_module_version": "1.4.0",
      "model_name": "TextModel",
      "state": {
       "description": "屏幕log等级",
       "layout": "IPY_MODEL_b558ab2b751f41e1aeece729de486f7a",
       "style": "IPY_MODEL_9491dc2056e842cf99530698394adbf4",
       "value": "10"
      }
     },
     "24ecfd0081d84637b9c78b0837e7db09": {
      "model_module": "@jupyter-widgets/controls",
      "model_module_version": "1.4.0",
      "model_name": "DescriptionStyleModel",
      "state": {
       "description_width": ""
      }
     },
     "26d62a6c4c034d86b060fe394a72733f": {
      "model_module": "@jupyter-widgets/controls",
      "model_module_version": "1.4.0",
      "model_name": "TextModel",
      "state": {
       "description": "log内容",
       "layout": "IPY_MODEL_1c347994b5d047c085b9b63adcfb2e8f",
       "style": "IPY_MODEL_d2213189ed4c401b803c590979ada6d9",
       "value": "test"
      }
     },
     "2756a52868c8473f9a442305ed0cc37b": {
      "model_module": "@jupyter-widgets/base",
      "model_module_version": "1.1.0",
      "model_name": "LayoutModel",
      "state": {}
     },
     "2781eb2398094e6e9f8914392c0cd98b": {
      "model_module": "@jupyter-widgets/controls",
      "model_module_version": "1.4.0",
      "model_name": "TextModel",
      "state": {
       "description": "log文件数量",
       "layout": "IPY_MODEL_ff25cb539d164c00bfc14ef11754ec2d",
       "style": "IPY_MODEL_9f811728dc2b4a2097943ac8af3bcb66",
       "value": "1"
      }
     },
     "28306f232b8f4ac08a63ae3eaf64e631": {
      "model_module": "@jupyter-widgets/controls",
      "model_module_version": "1.4.0",
      "model_name": "DescriptionStyleModel",
      "state": {
       "description_width": ""
      }
     },
     "289ecde2aafd451795750ed44daacfa7": {
      "model_module": "@jupyter-widgets/base",
      "model_module_version": "1.1.0",
      "model_name": "LayoutModel",
      "state": {}
     },
     "2995aa9e2e7e4030ad427913aea46b76": {
      "model_module": "@jupyter-widgets/base",
      "model_module_version": "1.1.0",
      "model_name": "LayoutModel",
      "state": {}
     },
     "2b44dea66f6a4925a836cfc12e7f9cfb": {
      "model_module": "@jupyter-widgets/base",
      "model_module_version": "1.1.0",
      "model_name": "LayoutModel",
      "state": {}
     },
     "2b4e8ceebf4a4ae881b2fdf81d631601": {
      "model_module": "@jupyter-widgets/controls",
      "model_module_version": "1.4.0",
      "model_name": "TextModel",
      "state": {
       "description": "单个文件大小",
       "layout": "IPY_MODEL_bb35e4d7b947447782dc3e43f26ea1c6",
       "style": "IPY_MODEL_913729768c174a5fba1662dfc7aa458e",
       "value": "10"
      }
     },
     "2bebece4ce3842bda033e636487e2d9c": {
      "model_module": "@jupyter-widgets/base",
      "model_module_version": "1.1.0",
      "model_name": "LayoutModel",
      "state": {}
     },
     "2c01ac002b5a4ff2984e1c29a831de7a": {
      "model_module": "@jupyter-widgets/base",
      "model_module_version": "1.1.0",
      "model_name": "LayoutModel",
      "state": {}
     },
     "3006277f09864bdcb58868744855f8c5": {
      "model_module": "@jupyter-widgets/base",
      "model_module_version": "1.1.0",
      "model_name": "LayoutModel",
      "state": {}
     },
     "303b68cb1b764429b6df4d6c676111aa": {
      "model_module": "@jupyter-widgets/base",
      "model_module_version": "1.1.0",
      "model_name": "LayoutModel",
      "state": {}
     },
     "305fb77cb9174c39b1f7c090272f895a": {
      "model_module": "@jupyter-widgets/controls",
      "model_module_version": "1.4.0",
      "model_name": "TextModel",
      "state": {
       "description": "单个文件大小",
       "layout": "IPY_MODEL_58392dfa7d32402faac8c87200eb8f5e",
       "style": "IPY_MODEL_8d77235663fb40279007e83f29cf5e18",
       "value": "1024"
      }
     },
     "318ef34aa4834d1e8f834eff512fd78b": {
      "model_module": "@jupyter-widgets/base",
      "model_module_version": "1.1.0",
      "model_name": "LayoutModel",
      "state": {}
     },
     "32ca2a27ef7a4a95b36c69e548bde454": {
      "model_module": "@jupyter-widgets/controls",
      "model_module_version": "1.4.0",
      "model_name": "ButtonModel",
      "state": {
       "description": "确定",
       "layout": "IPY_MODEL_23c8850be75e49dc82454e1cf84c1b43",
       "style": "IPY_MODEL_c7d64792a5a94cc9806735a72e98fd60"
      }
     },
     "32dd0085bf7e4adbb66a5017cd85d6e3": {
      "model_module": "@jupyter-widgets/controls",
      "model_module_version": "1.4.0",
      "model_name": "DescriptionStyleModel",
      "state": {
       "description_width": ""
      }
     },
     "330f82addb62403cba3c6bac10405861": {
      "model_module": "@jupyter-widgets/controls",
      "model_module_version": "1.4.0",
      "model_name": "TextModel",
      "state": {
       "description": "log文件数量",
       "layout": "IPY_MODEL_41140cab88e54868bf595a8f6c00d8fe",
       "style": "IPY_MODEL_0331e6404b0b48b89f9ede2152c8cb8f",
       "value": "1"
      }
     },
     "332f24b08f7f4b9bbf21db531e900aa9": {
      "model_module": "@jupyter-widgets/controls",
      "model_module_version": "1.4.0",
      "model_name": "TextModel",
      "state": {
       "description": "log内容",
       "layout": "IPY_MODEL_e19d83b4d59c4904afeb2c0715a2964a",
       "style": "IPY_MODEL_522d0dbd7dd74abc8a6a84bd5f802ddc"
      }
     },
     "33d3c7cb5b514504a2475aba4fa8bebf": {
      "model_module": "@jupyter-widgets/controls",
      "model_module_version": "1.4.0",
      "model_name": "DescriptionStyleModel",
      "state": {
       "description_width": ""
      }
     },
     "3686cbdef5794a15acda3f42c3596811": {
      "model_module": "@jupyter-widgets/controls",
      "model_module_version": "1.4.0",
      "model_name": "TextModel",
      "state": {
       "description": "屏幕log等级",
       "layout": "IPY_MODEL_04df5d62b40e4e3d8d300dd7974d8dcf",
       "style": "IPY_MODEL_492a509c84f345c3870f52109923b999",
       "value": "10"
      }
     },
     "36ca6c8a7396486d84d3eb11f99ebef8": {
      "model_module": "@jupyter-widgets/controls",
      "model_module_version": "1.4.0",
      "model_name": "TextModel",
      "state": {
       "description": "文件log等级",
       "layout": "IPY_MODEL_d757abda2219465a95bd0af574a50381",
       "style": "IPY_MODEL_46c10d512e8f477baccd03af56cfd3fe",
       "value": "10"
      }
     },
     "37f8b761f46747e3b642646d7419ca3b": {
      "model_module": "@jupyter-widgets/base",
      "model_module_version": "1.1.0",
      "model_name": "LayoutModel",
      "state": {}
     },
     "3ba10d30c5dd401398721b5411ad098d": {
      "model_module": "@jupyter-widgets/controls",
      "model_module_version": "1.4.0",
      "model_name": "DescriptionStyleModel",
      "state": {
       "description_width": ""
      }
     },
     "40178acfe23c4bafbf5e359a4120bbb6": {
      "model_module": "@jupyter-widgets/controls",
      "model_module_version": "1.4.0",
      "model_name": "DescriptionStyleModel",
      "state": {
       "description_width": ""
      }
     },
     "41140cab88e54868bf595a8f6c00d8fe": {
      "model_module": "@jupyter-widgets/base",
      "model_module_version": "1.1.0",
      "model_name": "LayoutModel",
      "state": {}
     },
     "41b409e0868d4f3aa70d84a92e2d4119": {
      "model_module": "@jupyter-widgets/base",
      "model_module_version": "1.1.0",
      "model_name": "LayoutModel",
      "state": {}
     },
     "41c6b9241ca748869a2bd674ab1809db": {
      "model_module": "@jupyter-widgets/controls",
      "model_module_version": "1.4.0",
      "model_name": "ButtonModel",
      "state": {
       "description": "确定",
       "layout": "IPY_MODEL_b06acad5efd5493c9d9270ef4b84e4b3",
       "style": "IPY_MODEL_9ad3f862d453406288571f24baf8f83c"
      }
     },
     "41ffde226dce49149d979853af83dad2": {
      "model_module": "@jupyter-widgets/base",
      "model_module_version": "1.1.0",
      "model_name": "LayoutModel",
      "state": {}
     },
     "42c526f0dad5484289974178e022032d": {
      "model_module": "@jupyter-widgets/base",
      "model_module_version": "1.1.0",
      "model_name": "LayoutModel",
      "state": {}
     },
     "43dbcb7ba53e48c8b864da571530341a": {
      "model_module": "@jupyter-widgets/controls",
      "model_module_version": "1.4.0",
      "model_name": "TextModel",
      "state": {
       "description": "log文件数量",
       "layout": "IPY_MODEL_41ffde226dce49149d979853af83dad2",
       "style": "IPY_MODEL_d7b5c35a3d8949f597afbca13e1587aa"
      }
     },
     "462c0dcaf2de402f8d2f33446275b0c8": {
      "model_module": "@jupyter-widgets/controls",
      "model_module_version": "1.4.0",
      "model_name": "ButtonStyleModel",
      "state": {}
     },
     "46c10d512e8f477baccd03af56cfd3fe": {
      "model_module": "@jupyter-widgets/controls",
      "model_module_version": "1.4.0",
      "model_name": "DescriptionStyleModel",
      "state": {
       "description_width": ""
      }
     },
     "472673c1ef1842159cb26ab2325ba455": {
      "model_module": "@jupyter-widgets/base",
      "model_module_version": "1.1.0",
      "model_name": "LayoutModel",
      "state": {}
     },
     "4848443eaff94ac394278d89b7cc20e3": {
      "model_module": "@jupyter-widgets/controls",
      "model_module_version": "1.4.0",
      "model_name": "ButtonModel",
      "state": {
       "description": "确定",
       "layout": "IPY_MODEL_f1f5e11f7f7e4f7eb98ddcdc3d7deec7",
       "style": "IPY_MODEL_e2321da55c884d13b890ae4c273f0889"
      }
     },
     "492a509c84f345c3870f52109923b999": {
      "model_module": "@jupyter-widgets/controls",
      "model_module_version": "1.4.0",
      "model_name": "DescriptionStyleModel",
      "state": {
       "description_width": ""
      }
     },
     "4ae2c395f86541889acbea6c24c09f9f": {
      "model_module": "@jupyter-widgets/base",
      "model_module_version": "1.1.0",
      "model_name": "LayoutModel",
      "state": {}
     },
     "4b59e54206114fb59caeca1bad906a96": {
      "model_module": "@jupyter-widgets/controls",
      "model_module_version": "1.4.0",
      "model_name": "DescriptionStyleModel",
      "state": {
       "description_width": ""
      }
     },
     "4bdc2460bcbd4891a5069562d8e3da30": {
      "model_module": "@jupyter-widgets/controls",
      "model_module_version": "1.4.0",
      "model_name": "DescriptionStyleModel",
      "state": {
       "description_width": ""
      }
     },
     "522d0dbd7dd74abc8a6a84bd5f802ddc": {
      "model_module": "@jupyter-widgets/controls",
      "model_module_version": "1.4.0",
      "model_name": "DescriptionStyleModel",
      "state": {
       "description_width": ""
      }
     },
     "533b3e7d58714b85806b9c35c49af9fb": {
      "model_module": "@jupyter-widgets/controls",
      "model_module_version": "1.4.0",
      "model_name": "TextModel",
      "state": {
       "description": "文件log等级",
       "layout": "IPY_MODEL_cbcf4c738b9b44a394d2b13727760a05",
       "style": "IPY_MODEL_edb4db1928794372a02c54e2ac897d93",
       "value": "10"
      }
     },
     "55f1895879444e9aa8c326a8234e2ef9": {
      "model_module": "@jupyter-widgets/controls",
      "model_module_version": "1.4.0",
      "model_name": "DescriptionStyleModel",
      "state": {
       "description_width": ""
      }
     },
     "5734906eac2c4eedb7f95f9330167f28": {
      "model_module": "@jupyter-widgets/controls",
      "model_module_version": "1.4.0",
      "model_name": "TextModel",
      "state": {
       "description": "文件log等级",
       "layout": "IPY_MODEL_dc07c8c425504d568344f378e30f0a95",
       "style": "IPY_MODEL_b7c775e0ca744b39a0f77b50b6c839f3",
       "value": "10"
      }
     },
     "57a58601ee704eeb9be86cdfb20e9ab2": {
      "model_module": "@jupyter-widgets/controls",
      "model_module_version": "1.4.0",
      "model_name": "TextModel",
      "state": {
       "description": "模块名称",
       "layout": "IPY_MODEL_6bf024980e6d4f238f670622caa9d4d0",
       "style": "IPY_MODEL_7863057a29ac4959ac456be7110fc63f",
       "value": "sample"
      }
     },
     "58392dfa7d32402faac8c87200eb8f5e": {
      "model_module": "@jupyter-widgets/base",
      "model_module_version": "1.1.0",
      "model_name": "LayoutModel",
      "state": {}
     },
     "586c8464112a4265b7084e672a2218ad": {
      "model_module": "@jupyter-widgets/controls",
      "model_module_version": "1.4.0",
      "model_name": "DescriptionStyleModel",
      "state": {
       "description_width": ""
      }
     },
     "5b08cb8cd14a4d53be33a91ac85d7af2": {
      "model_module": "@jupyter-widgets/controls",
      "model_module_version": "1.4.0",
      "model_name": "ButtonModel",
      "state": {
       "description": "确定",
       "layout": "IPY_MODEL_e54c6d83efd14b278653151922033b1b",
       "style": "IPY_MODEL_cd54d498e32d47e19b36201925eb6de8"
      }
     },
     "5b39196a45f244eca8b457bea4ea3b78": {
      "model_module": "@jupyter-widgets/base",
      "model_module_version": "1.1.0",
      "model_name": "LayoutModel",
      "state": {}
     },
     "5b7f3f86c84e4e55b40af6fcb7729707": {
      "model_module": "@jupyter-widgets/controls",
      "model_module_version": "1.4.0",
      "model_name": "DescriptionStyleModel",
      "state": {
       "description_width": ""
      }
     },
     "5c2aa2dbb20a441e9e68d8f6a163a535": {
      "model_module": "@jupyter-widgets/controls",
      "model_module_version": "1.4.0",
      "model_name": "DescriptionStyleModel",
      "state": {
       "description_width": ""
      }
     },
     "5db0f28050cc46cdb895e5e1348a314c": {
      "model_module": "@jupyter-widgets/controls",
      "model_module_version": "1.4.0",
      "model_name": "TextModel",
      "state": {
       "description": "模块名称",
       "layout": "IPY_MODEL_96ad7448f7d347919b1a8c94abe9f78f",
       "style": "IPY_MODEL_73c096634a2f43fa927071f40f5379c6",
       "value": "sample"
      }
     },
     "5dd7d548677f47259b57b9cc79a75318": {
      "model_module": "@jupyter-widgets/base",
      "model_module_version": "1.1.0",
      "model_name": "LayoutModel",
      "state": {}
     },
     "5f97e887bf5b4aff8d9fef68e77c5b28": {
      "model_module": "@jupyter-widgets/controls",
      "model_module_version": "1.4.0",
      "model_name": "DescriptionStyleModel",
      "state": {
       "description_width": ""
      }
     },
     "612053544fa54721b5ba1072fd983e64": {
      "model_module": "@jupyter-widgets/controls",
      "model_module_version": "1.4.0",
      "model_name": "TextModel",
      "state": {
       "description": "屏幕log等级",
       "layout": "IPY_MODEL_6e616d0c8c2a49d39df3d21a7048895c",
       "style": "IPY_MODEL_c59cc0e4941c4016930a02efe2b4b6c3",
       "value": "10"
      }
     },
     "62c1b3cf34194a42ab44256d257bd301": {
      "model_module": "@jupyter-widgets/controls",
      "model_module_version": "1.4.0",
      "model_name": "DescriptionStyleModel",
      "state": {
       "description_width": ""
      }
     },
     "64aecab4c4664402a32aa7fcd97916a8": {
      "model_module": "@jupyter-widgets/controls",
      "model_module_version": "1.4.0",
      "model_name": "TextModel",
      "state": {
       "description": "log内容",
       "layout": "IPY_MODEL_ec3ee7379617447694139736d5ab7e80",
       "style": "IPY_MODEL_33d3c7cb5b514504a2475aba4fa8bebf",
       "value": "test"
      }
     },
     "662a1509598f4795a523d654bcb3450f": {
      "model_module": "@jupyter-widgets/controls",
      "model_module_version": "1.4.0",
      "model_name": "TextModel",
      "state": {
       "description": "log内容",
       "layout": "IPY_MODEL_37f8b761f46747e3b642646d7419ca3b",
       "style": "IPY_MODEL_b7e27a6ea25241f881692db55f25eabb",
       "value": "test"
      }
     },
     "6809201c236948e2a176d79b723be4a7": {
      "model_module": "@jupyter-widgets/base",
      "model_module_version": "1.1.0",
      "model_name": "LayoutModel",
      "state": {}
     },
     "69e19441f8d04b2b9e5488d1c17bf4ee": {
      "model_module": "@jupyter-widgets/controls",
      "model_module_version": "1.4.0",
      "model_name": "TextModel",
      "state": {
       "description": "log内容",
       "layout": "IPY_MODEL_6809201c236948e2a176d79b723be4a7",
       "style": "IPY_MODEL_cf7fef165bea4131bf9e3f714d006b6c",
       "value": "test"
      }
     },
     "6bb6b4b0086c4a67add3589995f2e6dd": {
      "model_module": "@jupyter-widgets/controls",
      "model_module_version": "1.4.0",
      "model_name": "ButtonStyleModel",
      "state": {}
     },
     "6bf024980e6d4f238f670622caa9d4d0": {
      "model_module": "@jupyter-widgets/base",
      "model_module_version": "1.1.0",
      "model_name": "LayoutModel",
      "state": {}
     },
     "6d1a20521d934f6b8c7e2eb32b496a02": {
      "model_module": "@jupyter-widgets/controls",
      "model_module_version": "1.4.0",
      "model_name": "ButtonStyleModel",
      "state": {}
     },
     "6e25b8ab61a548e68dd03f23491dc66a": {
      "model_module": "@jupyter-widgets/base",
      "model_module_version": "1.1.0",
      "model_name": "LayoutModel",
      "state": {}
     },
     "6e3b454af2734905bc99213238530f2f": {
      "model_module": "@jupyter-widgets/base",
      "model_module_version": "1.1.0",
      "model_name": "LayoutModel",
      "state": {}
     },
     "6e616d0c8c2a49d39df3d21a7048895c": {
      "model_module": "@jupyter-widgets/base",
      "model_module_version": "1.1.0",
      "model_name": "LayoutModel",
      "state": {}
     },
     "6fa6859b6e8f4a7ba3b56497d4f32f25": {
      "model_module": "@jupyter-widgets/controls",
      "model_module_version": "1.4.0",
      "model_name": "TextModel",
      "state": {
       "description": "文件log等级",
       "layout": "IPY_MODEL_9561fc2048c148f8bc92020872e00ec6",
       "style": "IPY_MODEL_d73a44df07b44bd2971c2a574f8ab7e3",
       "value": "10"
      }
     },
     "73c096634a2f43fa927071f40f5379c6": {
      "model_module": "@jupyter-widgets/controls",
      "model_module_version": "1.4.0",
      "model_name": "DescriptionStyleModel",
      "state": {
       "description_width": ""
      }
     },
     "75329afe49b64c62a01c55a5f4bd01aa": {
      "model_module": "@jupyter-widgets/base",
      "model_module_version": "1.1.0",
      "model_name": "LayoutModel",
      "state": {}
     },
     "759bc7d3628f4716a43bb61e9af2294b": {
      "model_module": "@jupyter-widgets/controls",
      "model_module_version": "1.4.0",
      "model_name": "TextModel",
      "state": {
       "description": "模块名称",
       "layout": "IPY_MODEL_a7d46d62a5c54e7f8b3f86be47b164d8",
       "style": "IPY_MODEL_c024f688ed444e0a8713eb8aac713814"
      }
     },
     "78137b86960b43f59f67ee466ae02b37": {
      "model_module": "@jupyter-widgets/base",
      "model_module_version": "1.1.0",
      "model_name": "LayoutModel",
      "state": {}
     },
     "7863057a29ac4959ac456be7110fc63f": {
      "model_module": "@jupyter-widgets/controls",
      "model_module_version": "1.4.0",
      "model_name": "DescriptionStyleModel",
      "state": {
       "description_width": ""
      }
     },
     "79d3affadffa4ed887bd25a913583f31": {
      "model_module": "@jupyter-widgets/controls",
      "model_module_version": "1.4.0",
      "model_name": "TextModel",
      "state": {
       "description": "log文件数量",
       "layout": "IPY_MODEL_289ecde2aafd451795750ed44daacfa7",
       "style": "IPY_MODEL_62c1b3cf34194a42ab44256d257bd301",
       "value": "3"
      }
     },
     "7cb089ae5a4c4e5baf8ddeda0bdc2465": {
      "model_module": "@jupyter-widgets/controls",
      "model_module_version": "1.4.0",
      "model_name": "TextModel",
      "state": {
       "description": "单个文件大小",
       "layout": "IPY_MODEL_6e25b8ab61a548e68dd03f23491dc66a",
       "style": "IPY_MODEL_a1754721ac574217878e4d545eccaa0b",
       "value": "1024"
      }
     },
     "7d44b3ab8b4943ce8d7f4b640275dab9": {
      "model_module": "@jupyter-widgets/controls",
      "model_module_version": "1.4.0",
      "model_name": "TextModel",
      "state": {
       "description": "log文件数量",
       "layout": "IPY_MODEL_6e3b454af2734905bc99213238530f2f",
       "style": "IPY_MODEL_a5270eb7160e41b4ab7445c799e304bb",
       "value": "2"
      }
     },
     "8225176f9b3649aaa94648d3fdf3670e": {
      "model_module": "@jupyter-widgets/controls",
      "model_module_version": "1.4.0",
      "model_name": "DescriptionStyleModel",
      "state": {
       "description_width": ""
      }
     },
     "8228628009ec4430a7165d1b26bfe9cd": {
      "model_module": "@jupyter-widgets/controls",
      "model_module_version": "1.4.0",
      "model_name": "TextModel",
      "state": {
       "description": "log内容",
       "layout": "IPY_MODEL_472673c1ef1842159cb26ab2325ba455",
       "style": "IPY_MODEL_9bf218491e24420fbd8c9ec2bb199c2a",
       "value": "test"
      }
     },
     "82909cc4795942ddbb25aed8767566ae": {
      "model_module": "@jupyter-widgets/controls",
      "model_module_version": "1.4.0",
      "model_name": "TextModel",
      "state": {
       "description": "单个文件大小",
       "layout": "IPY_MODEL_19ed984169df41e5a1aa9af85d0447b7",
       "style": "IPY_MODEL_1d99afa0e7eb44aead9ec35dad87a79e",
       "value": "16"
      }
     },
     "845a8ba0ec2748049d8ff82fafb9f0b6": {
      "model_module": "@jupyter-widgets/controls",
      "model_module_version": "1.4.0",
      "model_name": "TextModel",
      "state": {
       "description": "模块名称",
       "layout": "IPY_MODEL_11bceb195d6d46678afc444947ef20b1",
       "style": "IPY_MODEL_d0a6023c6f9343a397f17858a9cfcd84",
       "value": "sample"
      }
     },
     "8492fe93c25649afa0b98b6a54f75d74": {
      "model_module": "@jupyter-widgets/controls",
      "model_module_version": "1.4.0",
      "model_name": "TextModel",
      "state": {
       "description": "模块名称",
       "layout": "IPY_MODEL_8701ec6e681346e6a68623ea310d80ad",
       "style": "IPY_MODEL_8b028d26339145c6b2bc3d7fe8509113"
      }
     },
     "84aecc24875d47f0bc7813ee1d0d01b7": {
      "model_module": "@jupyter-widgets/controls",
      "model_module_version": "1.4.0",
      "model_name": "TextModel",
      "state": {
       "description": "屏幕log等级",
       "layout": "IPY_MODEL_0c1608a7298446dbbd891570abe18b3f",
       "style": "IPY_MODEL_586c8464112a4265b7084e672a2218ad"
      }
     },
     "85bf2eb7ad6a4c0eb15ba1b8d36acf1a": {
      "model_module": "@jupyter-widgets/controls",
      "model_module_version": "1.4.0",
      "model_name": "TextModel",
      "state": {
       "description": "屏幕log等级",
       "layout": "IPY_MODEL_e744886ebdb0470197e01dd3da56cca8",
       "style": "IPY_MODEL_fc522f995a644b2f9f8dd5fef8a98f30",
       "value": "10"
      }
     },
     "8701ec6e681346e6a68623ea310d80ad": {
      "model_module": "@jupyter-widgets/base",
      "model_module_version": "1.1.0",
      "model_name": "LayoutModel",
      "state": {}
     },
     "8b028d26339145c6b2bc3d7fe8509113": {
      "model_module": "@jupyter-widgets/controls",
      "model_module_version": "1.4.0",
      "model_name": "DescriptionStyleModel",
      "state": {
       "description_width": ""
      }
     },
     "8d77235663fb40279007e83f29cf5e18": {
      "model_module": "@jupyter-widgets/controls",
      "model_module_version": "1.4.0",
      "model_name": "DescriptionStyleModel",
      "state": {
       "description_width": ""
      }
     },
     "913729768c174a5fba1662dfc7aa458e": {
      "model_module": "@jupyter-widgets/controls",
      "model_module_version": "1.4.0",
      "model_name": "DescriptionStyleModel",
      "state": {
       "description_width": ""
      }
     },
     "9186624c2434402fae95d4431edf1368": {
      "model_module": "@jupyter-widgets/controls",
      "model_module_version": "1.4.0",
      "model_name": "TextModel",
      "state": {
       "description": "log内容",
       "layout": "IPY_MODEL_5dd7d548677f47259b57b9cc79a75318",
       "style": "IPY_MODEL_f0db8881fc404da8b5ad818a83eae871",
       "value": "test"
      }
     },
     "93897d5824054f6eb8644c930e054e59": {
      "model_module": "@jupyter-widgets/controls",
      "model_module_version": "1.4.0",
      "model_name": "DescriptionStyleModel",
      "state": {
       "description_width": ""
      }
     },
     "93e0595a26284d08893e94d6af933e52": {
      "model_module": "@jupyter-widgets/controls",
      "model_module_version": "1.4.0",
      "model_name": "TextModel",
      "state": {
       "description": "log文件数量",
       "layout": "IPY_MODEL_318ef34aa4834d1e8f834eff512fd78b",
       "style": "IPY_MODEL_a872dd38966643509c979510c362141b",
       "value": "3"
      }
     },
     "93e43ba945e04b9f8eca7ce714bf8665": {
      "model_module": "@jupyter-widgets/controls",
      "model_module_version": "1.4.0",
      "model_name": "DescriptionStyleModel",
      "state": {
       "description_width": ""
      }
     },
     "93fca3decf3647499a24dd0752274b45": {
      "model_module": "@jupyter-widgets/controls",
      "model_module_version": "1.4.0",
      "model_name": "TextModel",
      "state": {
       "description": "模块名称",
       "layout": "IPY_MODEL_dc2d5150ad6949d3bd7290aea8d25c47",
       "style": "IPY_MODEL_f89262d99bc5499b9c36e21ee76899ca",
       "value": "test"
      }
     },
     "9491dc2056e842cf99530698394adbf4": {
      "model_module": "@jupyter-widgets/controls",
      "model_module_version": "1.4.0",
      "model_name": "DescriptionStyleModel",
      "state": {
       "description_width": ""
      }
     },
     "94c58b74fb004050911db7c4d623784d": {
      "model_module": "@jupyter-widgets/controls",
      "model_module_version": "1.4.0",
      "model_name": "TextModel",
      "state": {
       "description": "单个文件大小",
       "layout": "IPY_MODEL_e18e4bee92014c558b1b07bcdc21b596",
       "style": "IPY_MODEL_5f97e887bf5b4aff8d9fef68e77c5b28",
       "value": "1024"
      }
     },
     "9561fc2048c148f8bc92020872e00ec6": {
      "model_module": "@jupyter-widgets/base",
      "model_module_version": "1.1.0",
      "model_name": "LayoutModel",
      "state": {}
     },
     "96ad7448f7d347919b1a8c94abe9f78f": {
      "model_module": "@jupyter-widgets/base",
      "model_module_version": "1.1.0",
      "model_name": "LayoutModel",
      "state": {}
     },
     "96b4728c3c9b4a62b3dbc952f75c3e70": {
      "model_module": "@jupyter-widgets/base",
      "model_module_version": "1.1.0",
      "model_name": "LayoutModel",
      "state": {}
     },
     "97012be849f84103a0454ad6700c61d3": {
      "model_module": "@jupyter-widgets/base",
      "model_module_version": "1.1.0",
      "model_name": "LayoutModel",
      "state": {}
     },
     "97b8a7f7aec04a8bb1966d9dfe2a7b86": {
      "model_module": "@jupyter-widgets/controls",
      "model_module_version": "1.4.0",
      "model_name": "ButtonStyleModel",
      "state": {}
     },
     "9ad3f862d453406288571f24baf8f83c": {
      "model_module": "@jupyter-widgets/controls",
      "model_module_version": "1.4.0",
      "model_name": "ButtonStyleModel",
      "state": {}
     },
     "9be20332641346029f471bcf519df236": {
      "model_module": "@jupyter-widgets/controls",
      "model_module_version": "1.4.0",
      "model_name": "ButtonModel",
      "state": {
       "description": "确定",
       "layout": "IPY_MODEL_0f90792564164c04914247bc048bdaaa",
       "style": "IPY_MODEL_462c0dcaf2de402f8d2f33446275b0c8"
      }
     },
     "9bf218491e24420fbd8c9ec2bb199c2a": {
      "model_module": "@jupyter-widgets/controls",
      "model_module_version": "1.4.0",
      "model_name": "DescriptionStyleModel",
      "state": {
       "description_width": ""
      }
     },
     "9ca28d1f108d493587b026c25ce968d7": {
      "model_module": "@jupyter-widgets/controls",
      "model_module_version": "1.4.0",
      "model_name": "TextModel",
      "state": {
       "description": "屏幕log等级",
       "layout": "IPY_MODEL_ed637776cdd948de94c92e65af563896",
       "style": "IPY_MODEL_e5a4a32996834837b469f55dca31b41d",
       "value": "10"
      }
     },
     "9ce9505d47ad486393f3c337c17ad385": {
      "model_module": "@jupyter-widgets/controls",
      "model_module_version": "1.4.0",
      "model_name": "TextModel",
      "state": {
       "description": "log内容",
       "layout": "IPY_MODEL_75329afe49b64c62a01c55a5f4bd01aa",
       "style": "IPY_MODEL_93897d5824054f6eb8644c930e054e59",
       "value": "test"
      }
     },
     "9db8df9a3f6246868c23b72e6721d97a": {
      "model_module": "@jupyter-widgets/base",
      "model_module_version": "1.1.0",
      "model_name": "LayoutModel",
      "state": {}
     },
     "9dd38a30d7bb4668a444b173419850df": {
      "model_module": "@jupyter-widgets/controls",
      "model_module_version": "1.4.0",
      "model_name": "TextModel",
      "state": {
       "description": "log内容",
       "layout": "IPY_MODEL_a80eaf718c3f41c39c46e5c73a477a5b",
       "style": "IPY_MODEL_200ea23c325f47d4be3ad45cc9bccb62",
       "value": "test"
      }
     },
     "9f811728dc2b4a2097943ac8af3bcb66": {
      "model_module": "@jupyter-widgets/controls",
      "model_module_version": "1.4.0",
      "model_name": "DescriptionStyleModel",
      "state": {
       "description_width": ""
      }
     },
     "9fc8964a581b433280d24af19e75bae0": {
      "model_module": "@jupyter-widgets/controls",
      "model_module_version": "1.4.0",
      "model_name": "DescriptionStyleModel",
      "state": {
       "description_width": ""
      }
     },
     "a102d0d9bd07408ab5bf74ac1d4073a9": {
      "model_module": "@jupyter-widgets/controls",
      "model_module_version": "1.4.0",
      "model_name": "DescriptionStyleModel",
      "state": {
       "description_width": ""
      }
     },
     "a1754721ac574217878e4d545eccaa0b": {
      "model_module": "@jupyter-widgets/controls",
      "model_module_version": "1.4.0",
      "model_name": "DescriptionStyleModel",
      "state": {
       "description_width": ""
      }
     },
     "a2503518e63f40b1b8becbf475cab439": {
      "model_module": "@jupyter-widgets/controls",
      "model_module_version": "1.4.0",
      "model_name": "DescriptionStyleModel",
      "state": {
       "description_width": ""
      }
     },
     "a4136dfd7c4248cc84853bfdbdc6a147": {
      "model_module": "@jupyter-widgets/controls",
      "model_module_version": "1.4.0",
      "model_name": "TextModel",
      "state": {
       "description": "log文件数量",
       "layout": "IPY_MODEL_4ae2c395f86541889acbea6c24c09f9f",
       "style": "IPY_MODEL_1adcdd870b834816ae063380db3ba381",
       "value": "1"
      }
     },
     "a5270eb7160e41b4ab7445c799e304bb": {
      "model_module": "@jupyter-widgets/controls",
      "model_module_version": "1.4.0",
      "model_name": "DescriptionStyleModel",
      "state": {
       "description_width": ""
      }
     },
     "a64b400f9c914c97b6128b39577c03e0": {
      "model_module": "@jupyter-widgets/controls",
      "model_module_version": "1.4.0",
      "model_name": "TextModel",
      "state": {
       "description": "文件log等级",
       "layout": "IPY_MODEL_97012be849f84103a0454ad6700c61d3",
       "style": "IPY_MODEL_5b7f3f86c84e4e55b40af6fcb7729707",
       "value": "10"
      }
     },
     "a7d46d62a5c54e7f8b3f86be47b164d8": {
      "model_module": "@jupyter-widgets/base",
      "model_module_version": "1.1.0",
      "model_name": "LayoutModel",
      "state": {}
     },
     "a80eaf718c3f41c39c46e5c73a477a5b": {
      "model_module": "@jupyter-widgets/base",
      "model_module_version": "1.1.0",
      "model_name": "LayoutModel",
      "state": {}
     },
     "a86140d86760405ab396007ca6160af1": {
      "model_module": "@jupyter-widgets/base",
      "model_module_version": "1.1.0",
      "model_name": "LayoutModel",
      "state": {}
     },
     "a872dd38966643509c979510c362141b": {
      "model_module": "@jupyter-widgets/controls",
      "model_module_version": "1.4.0",
      "model_name": "DescriptionStyleModel",
      "state": {
       "description_width": ""
      }
     },
     "a93e65593a2c4a119bf146948dd5602f": {
      "model_module": "@jupyter-widgets/controls",
      "model_module_version": "1.4.0",
      "model_name": "DescriptionStyleModel",
      "state": {
       "description_width": ""
      }
     },
     "aaabe240a63e43d1863e014cd85438c5": {
      "model_module": "@jupyter-widgets/controls",
      "model_module_version": "1.4.0",
      "model_name": "ButtonStyleModel",
      "state": {}
     },
     "ac1a09c241614a2f875db3366cc5b0cf": {
      "model_module": "@jupyter-widgets/base",
      "model_module_version": "1.1.0",
      "model_name": "LayoutModel",
      "state": {}
     },
     "ac1b9228fb724784be88cdcc0d215d29": {
      "model_module": "@jupyter-widgets/controls",
      "model_module_version": "1.4.0",
      "model_name": "DescriptionStyleModel",
      "state": {
       "description_width": ""
      }
     },
     "aca1af271f7049abaf5226e0f6f77c9f": {
      "model_module": "@jupyter-widgets/controls",
      "model_module_version": "1.4.0",
      "model_name": "TextModel",
      "state": {
       "description": "屏幕log等级",
       "layout": "IPY_MODEL_c23260efb7b44050960f2325af2504c1",
       "style": "IPY_MODEL_28306f232b8f4ac08a63ae3eaf64e631",
       "value": "10"
      }
     },
     "ad8836c7e915474baaeff1c8b2ad8600": {
      "model_module": "@jupyter-widgets/base",
      "model_module_version": "1.1.0",
      "model_name": "LayoutModel",
      "state": {}
     },
     "ae5fcbd43790457f922869c493cac8d6": {
      "model_module": "@jupyter-widgets/controls",
      "model_module_version": "1.4.0",
      "model_name": "TextModel",
      "state": {
       "description": "单个文件大小",
       "layout": "IPY_MODEL_dadddcff95aa49aeb9d0e67827f16569",
       "style": "IPY_MODEL_55f1895879444e9aa8c326a8234e2ef9",
       "value": "1024"
      }
     },
     "b06acad5efd5493c9d9270ef4b84e4b3": {
      "model_module": "@jupyter-widgets/base",
      "model_module_version": "1.1.0",
      "model_name": "LayoutModel",
      "state": {}
     },
     "b22f417e7dd4434591b76d06848d8af9": {
      "model_module": "@jupyter-widgets/base",
      "model_module_version": "1.1.0",
      "model_name": "LayoutModel",
      "state": {}
     },
     "b2a26a4d0b5d49ae90dad875b7e8adfe": {
      "model_module": "@jupyter-widgets/base",
      "model_module_version": "1.1.0",
      "model_name": "LayoutModel",
      "state": {}
     },
     "b3dc43cbf1fc432197c8cfec9250bc59": {
      "model_module": "@jupyter-widgets/controls",
      "model_module_version": "1.4.0",
      "model_name": "ButtonModel",
      "state": {
       "description": "确定",
       "layout": "IPY_MODEL_ccd6c33158da4f15a20ad5b59a06c25e",
       "style": "IPY_MODEL_6d1a20521d934f6b8c7e2eb32b496a02"
      }
     },
     "b558ab2b751f41e1aeece729de486f7a": {
      "model_module": "@jupyter-widgets/base",
      "model_module_version": "1.1.0",
      "model_name": "LayoutModel",
      "state": {}
     },
     "b67df6ef77704e3081081c455ebaef49": {
      "model_module": "@jupyter-widgets/controls",
      "model_module_version": "1.4.0",
      "model_name": "DescriptionStyleModel",
      "state": {
       "description_width": ""
      }
     },
     "b7c775e0ca744b39a0f77b50b6c839f3": {
      "model_module": "@jupyter-widgets/controls",
      "model_module_version": "1.4.0",
      "model_name": "DescriptionStyleModel",
      "state": {
       "description_width": ""
      }
     },
     "b7e27a6ea25241f881692db55f25eabb": {
      "model_module": "@jupyter-widgets/controls",
      "model_module_version": "1.4.0",
      "model_name": "DescriptionStyleModel",
      "state": {
       "description_width": ""
      }
     },
     "bb35e4d7b947447782dc3e43f26ea1c6": {
      "model_module": "@jupyter-widgets/base",
      "model_module_version": "1.1.0",
      "model_name": "LayoutModel",
      "state": {}
     },
     "bb4494beb0834598b0c31c9a61fb33f3": {
      "model_module": "@jupyter-widgets/base",
      "model_module_version": "1.1.0",
      "model_name": "LayoutModel",
      "state": {}
     },
     "bc0c0d05d3354e0fae355f90a00bb041": {
      "model_module": "@jupyter-widgets/controls",
      "model_module_version": "1.4.0",
      "model_name": "TextModel",
      "state": {
       "description": "文件log等级",
       "layout": "IPY_MODEL_a86140d86760405ab396007ca6160af1",
       "style": "IPY_MODEL_b67df6ef77704e3081081c455ebaef49",
       "value": "10"
      }
     },
     "bcf038cde7694873864ad31abbbc7ad8": {
      "model_module": "@jupyter-widgets/controls",
      "model_module_version": "1.4.0",
      "model_name": "TextModel",
      "state": {
       "description": "文件log等级",
       "layout": "IPY_MODEL_42c526f0dad5484289974178e022032d",
       "style": "IPY_MODEL_93e43ba945e04b9f8eca7ce714bf8665",
       "value": "10"
      }
     },
     "bedd0709b96747f493dfd9aa7b5f2f50": {
      "model_module": "@jupyter-widgets/controls",
      "model_module_version": "1.4.0",
      "model_name": "ButtonModel",
      "state": {
       "description": "确定",
       "layout": "IPY_MODEL_ac1a09c241614a2f875db3366cc5b0cf",
       "style": "IPY_MODEL_6bb6b4b0086c4a67add3589995f2e6dd"
      }
     },
     "bf112b24c9f0459da236921c6216e14d": {
      "model_module": "@jupyter-widgets/controls",
      "model_module_version": "1.4.0",
      "model_name": "TextModel",
      "state": {
       "description": "文件log等级",
       "layout": "IPY_MODEL_303b68cb1b764429b6df4d6c676111aa",
       "style": "IPY_MODEL_4bdc2460bcbd4891a5069562d8e3da30",
       "value": "10"
      }
     },
     "c01a4f43db3341e29986fd44a17df919": {
      "model_module": "@jupyter-widgets/base",
      "model_module_version": "1.1.0",
      "model_name": "LayoutModel",
      "state": {}
     },
     "c024f688ed444e0a8713eb8aac713814": {
      "model_module": "@jupyter-widgets/controls",
      "model_module_version": "1.4.0",
      "model_name": "DescriptionStyleModel",
      "state": {
       "description_width": ""
      }
     },
     "c092ea7397374c7f9695192a1a630e61": {
      "model_module": "@jupyter-widgets/controls",
      "model_module_version": "1.4.0",
      "model_name": "TextModel",
      "state": {
       "description": "单个文件大小",
       "layout": "IPY_MODEL_1a43eb99c5df4617807d2eaa2d764194",
       "style": "IPY_MODEL_24ecfd0081d84637b9c78b0837e7db09"
      }
     },
     "c0b6e87ad37745e6b549ed0695449459": {
      "model_module": "@jupyter-widgets/controls",
      "model_module_version": "1.4.0",
      "model_name": "ButtonStyleModel",
      "state": {}
     },
     "c23260efb7b44050960f2325af2504c1": {
      "model_module": "@jupyter-widgets/base",
      "model_module_version": "1.1.0",
      "model_name": "LayoutModel",
      "state": {}
     },
     "c59cc0e4941c4016930a02efe2b4b6c3": {
      "model_module": "@jupyter-widgets/controls",
      "model_module_version": "1.4.0",
      "model_name": "DescriptionStyleModel",
      "state": {
       "description_width": ""
      }
     },
     "c7d64792a5a94cc9806735a72e98fd60": {
      "model_module": "@jupyter-widgets/controls",
      "model_module_version": "1.4.0",
      "model_name": "ButtonStyleModel",
      "state": {}
     },
     "c9b6872411fe4edd9263cf057f79356a": {
      "model_module": "@jupyter-widgets/controls",
      "model_module_version": "1.4.0",
      "model_name": "DescriptionStyleModel",
      "state": {
       "description_width": ""
      }
     },
     "c9eccfbb6e8e4ec4b04481974dab5465": {
      "model_module": "@jupyter-widgets/controls",
      "model_module_version": "1.4.0",
      "model_name": "DescriptionStyleModel",
      "state": {
       "description_width": ""
      }
     },
     "cbcf4c738b9b44a394d2b13727760a05": {
      "model_module": "@jupyter-widgets/base",
      "model_module_version": "1.1.0",
      "model_name": "LayoutModel",
      "state": {}
     },
     "ccd6c33158da4f15a20ad5b59a06c25e": {
      "model_module": "@jupyter-widgets/base",
      "model_module_version": "1.1.0",
      "model_name": "LayoutModel",
      "state": {}
     },
     "cd54d498e32d47e19b36201925eb6de8": {
      "model_module": "@jupyter-widgets/controls",
      "model_module_version": "1.4.0",
      "model_name": "ButtonStyleModel",
      "state": {}
     },
     "cf7fef165bea4131bf9e3f714d006b6c": {
      "model_module": "@jupyter-widgets/controls",
      "model_module_version": "1.4.0",
      "model_name": "DescriptionStyleModel",
      "state": {
       "description_width": ""
      }
     },
     "d0a6023c6f9343a397f17858a9cfcd84": {
      "model_module": "@jupyter-widgets/controls",
      "model_module_version": "1.4.0",
      "model_name": "DescriptionStyleModel",
      "state": {
       "description_width": ""
      }
     },
     "d2213189ed4c401b803c590979ada6d9": {
      "model_module": "@jupyter-widgets/controls",
      "model_module_version": "1.4.0",
      "model_name": "DescriptionStyleModel",
      "state": {
       "description_width": ""
      }
     },
     "d2a4ebd2bad3442381b18f5f4d731324": {
      "model_module": "@jupyter-widgets/controls",
      "model_module_version": "1.4.0",
      "model_name": "DescriptionStyleModel",
      "state": {
       "description_width": ""
      }
     },
     "d4aa12e67e924e8a90937a9910590761": {
      "model_module": "@jupyter-widgets/controls",
      "model_module_version": "1.4.0",
      "model_name": "TextModel",
      "state": {
       "description": "模块名称",
       "layout": "IPY_MODEL_19816be30565404fa333345643604ba0",
       "style": "IPY_MODEL_3ba10d30c5dd401398721b5411ad098d",
       "value": "test"
      }
     },
     "d6ffc9f83631429190e04dadfbea1591": {
      "model_module": "@jupyter-widgets/controls",
      "model_module_version": "1.4.0",
      "model_name": "TextModel",
      "state": {
       "description": "模块名称",
       "layout": "IPY_MODEL_2756a52868c8473f9a442305ed0cc37b",
       "style": "IPY_MODEL_32dd0085bf7e4adbb66a5017cd85d6e3",
       "value": "sample"
      }
     },
     "d73a44df07b44bd2971c2a574f8ab7e3": {
      "model_module": "@jupyter-widgets/controls",
      "model_module_version": "1.4.0",
      "model_name": "DescriptionStyleModel",
      "state": {
       "description_width": ""
      }
     },
     "d757abda2219465a95bd0af574a50381": {
      "model_module": "@jupyter-widgets/base",
      "model_module_version": "1.1.0",
      "model_name": "LayoutModel",
      "state": {}
     },
     "d7b5c35a3d8949f597afbca13e1587aa": {
      "model_module": "@jupyter-widgets/controls",
      "model_module_version": "1.4.0",
      "model_name": "DescriptionStyleModel",
      "state": {
       "description_width": ""
      }
     },
     "d9628bfa64e4464094d631f92eb33f21": {
      "model_module": "@jupyter-widgets/controls",
      "model_module_version": "1.4.0",
      "model_name": "DescriptionStyleModel",
      "state": {
       "description_width": ""
      }
     },
     "dadddcff95aa49aeb9d0e67827f16569": {
      "model_module": "@jupyter-widgets/base",
      "model_module_version": "1.1.0",
      "model_name": "LayoutModel",
      "state": {}
     },
     "db05d4a8aae14cabbad9afcf06605b6c": {
      "model_module": "@jupyter-widgets/controls",
      "model_module_version": "1.4.0",
      "model_name": "TextModel",
      "state": {
       "description": "log文件数量",
       "layout": "IPY_MODEL_2bebece4ce3842bda033e636487e2d9c",
       "style": "IPY_MODEL_4b59e54206114fb59caeca1bad906a96"
      }
     },
     "dc07c8c425504d568344f378e30f0a95": {
      "model_module": "@jupyter-widgets/base",
      "model_module_version": "1.1.0",
      "model_name": "LayoutModel",
      "state": {}
     },
     "dc2d5150ad6949d3bd7290aea8d25c47": {
      "model_module": "@jupyter-widgets/base",
      "model_module_version": "1.1.0",
      "model_name": "LayoutModel",
      "state": {}
     },
     "ddc1a420239545f4bd3572e5b23e9c6a": {
      "model_module": "@jupyter-widgets/controls",
      "model_module_version": "1.4.0",
      "model_name": "TextModel",
      "state": {
       "description": "log内容",
       "layout": "IPY_MODEL_78137b86960b43f59f67ee466ae02b37",
       "style": "IPY_MODEL_13e50398a2f141009932b990ab419b59",
       "value": "testtest"
      }
     },
     "e18e4bee92014c558b1b07bcdc21b596": {
      "model_module": "@jupyter-widgets/base",
      "model_module_version": "1.1.0",
      "model_name": "LayoutModel",
      "state": {}
     },
     "e18fd0fe33ca4a48bcae344d10e7e9f6": {
      "model_module": "@jupyter-widgets/controls",
      "model_module_version": "1.4.0",
      "model_name": "TextModel",
      "state": {
       "description": "log文件数量",
       "layout": "IPY_MODEL_2b44dea66f6a4925a836cfc12e7f9cfb",
       "style": "IPY_MODEL_a2503518e63f40b1b8becbf475cab439",
       "value": "2"
      }
     },
     "e19d83b4d59c4904afeb2c0715a2964a": {
      "model_module": "@jupyter-widgets/base",
      "model_module_version": "1.1.0",
      "model_name": "LayoutModel",
      "state": {}
     },
     "e2321da55c884d13b890ae4c273f0889": {
      "model_module": "@jupyter-widgets/controls",
      "model_module_version": "1.4.0",
      "model_name": "ButtonStyleModel",
      "state": {}
     },
     "e2be533186d5416f951a3920a619132b": {
      "model_module": "@jupyter-widgets/controls",
      "model_module_version": "1.4.0",
      "model_name": "TextModel",
      "state": {
       "description": "模块名称",
       "layout": "IPY_MODEL_b2a26a4d0b5d49ae90dad875b7e8adfe",
       "style": "IPY_MODEL_a102d0d9bd07408ab5bf74ac1d4073a9",
       "value": "sample"
      }
     },
     "e421ff278e8a480cbd8109aab288a368": {
      "model_module": "@jupyter-widgets/controls",
      "model_module_version": "1.4.0",
      "model_name": "ButtonStyleModel",
      "state": {}
     },
     "e54c6d83efd14b278653151922033b1b": {
      "model_module": "@jupyter-widgets/base",
      "model_module_version": "1.1.0",
      "model_name": "LayoutModel",
      "state": {}
     },
     "e5a4a32996834837b469f55dca31b41d": {
      "model_module": "@jupyter-widgets/controls",
      "model_module_version": "1.4.0",
      "model_name": "DescriptionStyleModel",
      "state": {
       "description_width": ""
      }
     },
     "e744886ebdb0470197e01dd3da56cca8": {
      "model_module": "@jupyter-widgets/base",
      "model_module_version": "1.1.0",
      "model_name": "LayoutModel",
      "state": {}
     },
     "ec3ee7379617447694139736d5ab7e80": {
      "model_module": "@jupyter-widgets/base",
      "model_module_version": "1.1.0",
      "model_name": "LayoutModel",
      "state": {}
     },
     "ed637776cdd948de94c92e65af563896": {
      "model_module": "@jupyter-widgets/base",
      "model_module_version": "1.1.0",
      "model_name": "LayoutModel",
      "state": {}
     },
     "edb4db1928794372a02c54e2ac897d93": {
      "model_module": "@jupyter-widgets/controls",
      "model_module_version": "1.4.0",
      "model_name": "DescriptionStyleModel",
      "state": {
       "description_width": ""
      }
     },
     "ede94f67a65d4a3f9b04987a869fa96c": {
      "model_module": "@jupyter-widgets/controls",
      "model_module_version": "1.4.0",
      "model_name": "DescriptionStyleModel",
      "state": {
       "description_width": ""
      }
     },
     "eed967f078924ad0bdf82b1218cfa65c": {
      "model_module": "@jupyter-widgets/controls",
      "model_module_version": "1.4.0",
      "model_name": "DescriptionStyleModel",
      "state": {
       "description_width": ""
      }
     },
     "f0db8881fc404da8b5ad818a83eae871": {
      "model_module": "@jupyter-widgets/controls",
      "model_module_version": "1.4.0",
      "model_name": "DescriptionStyleModel",
      "state": {
       "description_width": ""
      }
     },
     "f1113a72a76345d48c54ffc18745a280": {
      "model_module": "@jupyter-widgets/controls",
      "model_module_version": "1.4.0",
      "model_name": "TextModel",
      "state": {
       "description": "单个文件大小",
       "layout": "IPY_MODEL_9db8df9a3f6246868c23b72e6721d97a",
       "style": "IPY_MODEL_d2a4ebd2bad3442381b18f5f4d731324",
       "value": "10"
      }
     },
     "f1f5e11f7f7e4f7eb98ddcdc3d7deec7": {
      "model_module": "@jupyter-widgets/base",
      "model_module_version": "1.1.0",
      "model_name": "LayoutModel",
      "state": {}
     },
     "f485787a24564e3aad648d545627a917": {
      "model_module": "@jupyter-widgets/base",
      "model_module_version": "1.1.0",
      "model_name": "LayoutModel",
      "state": {}
     },
     "f50b5a5906ba4d52b4b07222c73e3b20": {
      "model_module": "@jupyter-widgets/controls",
      "model_module_version": "1.4.0",
      "model_name": "ButtonModel",
      "state": {
       "description": "确定",
       "layout": "IPY_MODEL_2995aa9e2e7e4030ad427913aea46b76",
       "style": "IPY_MODEL_c0b6e87ad37745e6b549ed0695449459"
      }
     },
     "f77ec949271b46c4b2121f474377fa96": {
      "model_module": "@jupyter-widgets/controls",
      "model_module_version": "1.4.0",
      "model_name": "TextModel",
      "state": {
       "description": "文件log等级",
       "layout": "IPY_MODEL_f967ad67865e4834b78029b1d289dc69",
       "style": "IPY_MODEL_d9628bfa64e4464094d631f92eb33f21",
       "value": "10"
      }
     },
     "f89262d99bc5499b9c36e21ee76899ca": {
      "model_module": "@jupyter-widgets/controls",
      "model_module_version": "1.4.0",
      "model_name": "DescriptionStyleModel",
      "state": {
       "description_width": ""
      }
     },
     "f89d40236de74deca01277f30dca2ac4": {
      "model_module": "@jupyter-widgets/controls",
      "model_module_version": "1.4.0",
      "model_name": "ButtonModel",
      "state": {
       "description": "确定",
       "layout": "IPY_MODEL_f485787a24564e3aad648d545627a917",
       "style": "IPY_MODEL_aaabe240a63e43d1863e014cd85438c5"
      }
     },
     "f967ad67865e4834b78029b1d289dc69": {
      "model_module": "@jupyter-widgets/base",
      "model_module_version": "1.1.0",
      "model_name": "LayoutModel",
      "state": {}
     },
     "fc522f995a644b2f9f8dd5fef8a98f30": {
      "model_module": "@jupyter-widgets/controls",
      "model_module_version": "1.4.0",
      "model_name": "DescriptionStyleModel",
      "state": {
       "description_width": ""
      }
     },
     "ff25cb539d164c00bfc14ef11754ec2d": {
      "model_module": "@jupyter-widgets/base",
      "model_module_version": "1.1.0",
      "model_name": "LayoutModel",
      "state": {}
     }
    },
    "version_major": 2,
    "version_minor": 0
   }
  }
 },
 "nbformat": 4,
 "nbformat_minor": 2
}
